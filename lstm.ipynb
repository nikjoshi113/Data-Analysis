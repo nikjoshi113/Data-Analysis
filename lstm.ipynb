{
 "cells": [
  {
   "cell_type": "code",
   "execution_count": 170,
   "metadata": {},
   "outputs": [],
   "source": [
    "import pandas as pd\n",
    "import yfinance as yf\n",
    "import time\n",
    "import numpy as np"
   ]
  },
  {
   "cell_type": "code",
   "execution_count": 171,
   "metadata": {},
   "outputs": [
    {
     "name": "stdout",
     "output_type": "stream",
     "text": [
      "[*********************100%***********************]  1 of 1 completed\n"
     ]
    }
   ],
   "source": [
    "from datetime import date\n",
    "today = date.today()\n",
    "\n",
    "df = yf.download(\n",
    "tickers = [\"ETH-USD\"],\n",
    "start = \"2016-01-01\",\n",
    "end = today\n",
    ")"
   ]
  },
  {
   "cell_type": "code",
   "execution_count": 172,
   "metadata": {},
   "outputs": [
    {
     "data": {
      "text/plain": [
       "array([[ 308.64498901],\n",
       "       [ 320.67098999],\n",
       "       [ 298.58599854],\n",
       "       ...,\n",
       "       [1577.10742188],\n",
       "       [1567.69897461],\n",
       "       [1515.24963379]])"
      ]
     },
     "execution_count": 172,
     "metadata": {},
     "output_type": "execute_result"
    }
   ],
   "source": [
    "df.to_csv('data.csv')\n",
    "gstock_data = pd.read_csv('data.csv')\n",
    "set = gstock_data.iloc[:, 1:2].values\n",
    "set"
   ]
  },
  {
   "cell_type": "code",
   "execution_count": 173,
   "metadata": {},
   "outputs": [
    {
     "data": {
      "text/plain": [
       "1898"
      ]
     },
     "execution_count": 173,
     "metadata": {},
     "output_type": "execute_result"
    }
   ],
   "source": [
    "from sklearn.preprocessing import MinMaxScaler\n",
    "Ms = MinMaxScaler()\n",
    "set = Ms.fit_transform(set)\n",
    "set.shape[0]"
   ]
  },
  {
   "cell_type": "code",
   "execution_count": 174,
   "metadata": {},
   "outputs": [
    {
     "data": {
      "text/plain": [
       "1803"
      ]
     },
     "execution_count": 174,
     "metadata": {},
     "output_type": "execute_result"
    }
   ],
   "source": [
    "train_len = int(len(set)*0.95)\n",
    "train_len"
   ]
  },
  {
   "cell_type": "code",
   "execution_count": 175,
   "metadata": {},
   "outputs": [],
   "source": [
    "x_train = set[0:train_len]\n",
    "y_train = set[1:train_len+1]\n",
    "\n",
    "x_test = set[train_len:set.shape[0]-1]\n",
    "y_test = set[train_len+1:set.shape[0]]"
   ]
  },
  {
   "cell_type": "code",
   "execution_count": 176,
   "metadata": {},
   "outputs": [],
   "source": [
    "x_train = np.reshape(x_train,(x_train.shape[0],1,1))"
   ]
  },
  {
   "cell_type": "code",
   "execution_count": 177,
   "metadata": {},
   "outputs": [
    {
     "name": "stdout",
     "output_type": "stream",
     "text": [
      "Model: \"sequential_12\"\n",
      "_________________________________________________________________\n",
      " Layer (type)                Output Shape              Param #   \n",
      "=================================================================\n",
      " lstm_42 (LSTM)              (None, None, 50)          10400     \n",
      "                                                                 \n",
      " dropout_41 (Dropout)        (None, None, 50)          0         \n",
      "                                                                 \n",
      " lstm_43 (LSTM)              (None, None, 50)          20200     \n",
      "                                                                 \n",
      " dropout_42 (Dropout)        (None, None, 50)          0         \n",
      "                                                                 \n",
      " lstm_44 (LSTM)              (None, None, 50)          20200     \n",
      "                                                                 \n",
      " dropout_43 (Dropout)        (None, None, 50)          0         \n",
      "                                                                 \n",
      " lstm_45 (LSTM)              (None, 50)                20200     \n",
      "                                                                 \n",
      " dropout_44 (Dropout)        (None, 50)                0         \n",
      "                                                                 \n",
      " dense_11 (Dense)            (None, 6)                 306       \n",
      "                                                                 \n",
      "=================================================================\n",
      "Total params: 71,306\n",
      "Trainable params: 71,306\n",
      "Non-trainable params: 0\n",
      "_________________________________________________________________\n"
     ]
    }
   ],
   "source": [
    "from keras.models import Sequential\n",
    "from keras.layers import Dense, Dropout, LSTM, Bidirectional\n",
    "\n",
    "model = Sequential()\n",
    "model.add(LSTM(units=50,return_sequences=True,input_shape=(None,1)))\n",
    "model.add(Dropout(0.2))\n",
    "model.add(LSTM(units=50,return_sequences=True))\n",
    "model.add(Dropout(0.2))\n",
    "model.add(LSTM(units=50,return_sequences=True))\n",
    "model.add(Dropout(0.2))\n",
    "model.add(LSTM(units=50))\n",
    "model.add(Dropout(0.2))\n",
    "model.add(Dense(units=6))\n",
    "model.compile(optimizer='adam',loss='mean_squared_error')\n",
    "\n",
    "model.summary()"
   ]
  },
  {
   "cell_type": "code",
   "execution_count": 178,
   "metadata": {},
   "outputs": [
    {
     "name": "stdout",
     "output_type": "stream",
     "text": [
      "Epoch 1/100\n",
      "57/57 [==============================] - 5s 4ms/step - loss: 0.0809\n",
      "Epoch 2/100\n",
      "57/57 [==============================] - 0s 4ms/step - loss: 0.0237\n",
      "Epoch 3/100\n",
      "57/57 [==============================] - 0s 4ms/step - loss: 0.0045\n",
      "Epoch 4/100\n",
      "57/57 [==============================] - 0s 5ms/step - loss: 0.0035\n",
      "Epoch 5/100\n",
      "57/57 [==============================] - 0s 4ms/step - loss: 0.0032\n",
      "Epoch 6/100\n",
      "57/57 [==============================] - 0s 4ms/step - loss: 0.0028\n",
      "Epoch 7/100\n",
      "57/57 [==============================] - 0s 4ms/step - loss: 0.0025\n",
      "Epoch 8/100\n",
      "57/57 [==============================] - 0s 4ms/step - loss: 0.0023\n",
      "Epoch 9/100\n",
      "57/57 [==============================] - 0s 5ms/step - loss: 0.0024\n",
      "Epoch 10/100\n",
      "57/57 [==============================] - 0s 4ms/step - loss: 0.0022\n",
      "Epoch 11/100\n",
      "57/57 [==============================] - 0s 4ms/step - loss: 0.0023\n",
      "Epoch 12/100\n",
      "57/57 [==============================] - 0s 4ms/step - loss: 0.0022\n",
      "Epoch 13/100\n",
      "57/57 [==============================] - 0s 4ms/step - loss: 0.0018\n",
      "Epoch 14/100\n",
      "57/57 [==============================] - 0s 4ms/step - loss: 0.0019\n",
      "Epoch 15/100\n",
      "57/57 [==============================] - 0s 4ms/step - loss: 0.0021\n",
      "Epoch 16/100\n",
      "57/57 [==============================] - 0s 5ms/step - loss: 0.0018\n",
      "Epoch 17/100\n",
      "57/57 [==============================] - 0s 5ms/step - loss: 0.0020\n",
      "Epoch 18/100\n",
      "57/57 [==============================] - 0s 4ms/step - loss: 0.0018\n",
      "Epoch 19/100\n",
      "57/57 [==============================] - 0s 4ms/step - loss: 0.0018\n",
      "Epoch 20/100\n",
      "57/57 [==============================] - 0s 5ms/step - loss: 0.0018\n",
      "Epoch 21/100\n",
      "57/57 [==============================] - 0s 4ms/step - loss: 0.0019\n",
      "Epoch 22/100\n",
      "57/57 [==============================] - 0s 5ms/step - loss: 0.0018\n",
      "Epoch 23/100\n",
      "57/57 [==============================] - 0s 4ms/step - loss: 0.0017\n",
      "Epoch 24/100\n",
      "57/57 [==============================] - 0s 4ms/step - loss: 0.0018\n",
      "Epoch 25/100\n",
      "57/57 [==============================] - 0s 6ms/step - loss: 0.0018\n",
      "Epoch 26/100\n",
      "57/57 [==============================] - 0s 8ms/step - loss: 0.0018\n",
      "Epoch 27/100\n",
      "57/57 [==============================] - 0s 5ms/step - loss: 0.0018\n",
      "Epoch 28/100\n",
      "57/57 [==============================] - 0s 5ms/step - loss: 0.0017\n",
      "Epoch 29/100\n",
      "57/57 [==============================] - 0s 5ms/step - loss: 0.0015\n",
      "Epoch 30/100\n",
      "57/57 [==============================] - 0s 6ms/step - loss: 0.0016\n",
      "Epoch 31/100\n",
      "57/57 [==============================] - 0s 5ms/step - loss: 0.0015\n",
      "Epoch 32/100\n",
      "57/57 [==============================] - 0s 6ms/step - loss: 0.0016\n",
      "Epoch 33/100\n",
      "57/57 [==============================] - 0s 6ms/step - loss: 0.0016\n",
      "Epoch 34/100\n",
      "57/57 [==============================] - 1s 9ms/step - loss: 0.0017\n",
      "Epoch 35/100\n",
      "57/57 [==============================] - 0s 5ms/step - loss: 0.0017\n",
      "Epoch 36/100\n",
      "57/57 [==============================] - 0s 5ms/step - loss: 0.0016\n",
      "Epoch 37/100\n",
      "57/57 [==============================] - 0s 5ms/step - loss: 0.0015\n",
      "Epoch 38/100\n",
      "57/57 [==============================] - 0s 5ms/step - loss: 0.0016\n",
      "Epoch 39/100\n",
      "57/57 [==============================] - 0s 5ms/step - loss: 0.0016\n",
      "Epoch 40/100\n",
      "57/57 [==============================] - 0s 5ms/step - loss: 0.0016\n",
      "Epoch 41/100\n",
      "57/57 [==============================] - 0s 6ms/step - loss: 0.0016\n",
      "Epoch 42/100\n",
      "57/57 [==============================] - 0s 6ms/step - loss: 0.0014\n",
      "Epoch 43/100\n",
      "57/57 [==============================] - 0s 5ms/step - loss: 0.0016\n",
      "Epoch 44/100\n",
      "57/57 [==============================] - 0s 5ms/step - loss: 0.0014\n",
      "Epoch 45/100\n",
      "57/57 [==============================] - 0s 4ms/step - loss: 0.0014\n",
      "Epoch 46/100\n",
      "57/57 [==============================] - 0s 4ms/step - loss: 0.0016\n",
      "Epoch 47/100\n",
      "57/57 [==============================] - 0s 5ms/step - loss: 0.0016\n",
      "Epoch 48/100\n",
      "57/57 [==============================] - 0s 5ms/step - loss: 0.0014\n",
      "Epoch 49/100\n",
      "57/57 [==============================] - 0s 4ms/step - loss: 0.0016\n",
      "Epoch 50/100\n",
      "57/57 [==============================] - 0s 4ms/step - loss: 0.0015\n",
      "Epoch 51/100\n",
      "57/57 [==============================] - 0s 4ms/step - loss: 0.0015\n",
      "Epoch 52/100\n",
      "57/57 [==============================] - 0s 5ms/step - loss: 0.0015\n",
      "Epoch 53/100\n",
      "57/57 [==============================] - 0s 4ms/step - loss: 0.0015\n",
      "Epoch 54/100\n",
      "57/57 [==============================] - 0s 4ms/step - loss: 0.0014\n",
      "Epoch 55/100\n",
      "57/57 [==============================] - 0s 5ms/step - loss: 0.0014\n",
      "Epoch 56/100\n",
      "57/57 [==============================] - 0s 5ms/step - loss: 0.0015\n",
      "Epoch 57/100\n",
      "57/57 [==============================] - 0s 5ms/step - loss: 0.0016\n",
      "Epoch 58/100\n",
      "57/57 [==============================] - 0s 4ms/step - loss: 0.0016\n",
      "Epoch 59/100\n",
      "57/57 [==============================] - 0s 5ms/step - loss: 0.0015\n",
      "Epoch 60/100\n",
      "57/57 [==============================] - 0s 4ms/step - loss: 0.0016\n",
      "Epoch 61/100\n",
      "57/57 [==============================] - 0s 5ms/step - loss: 0.0015\n",
      "Epoch 62/100\n",
      "57/57 [==============================] - 0s 5ms/step - loss: 0.0015\n",
      "Epoch 63/100\n",
      "57/57 [==============================] - 0s 5ms/step - loss: 0.0015\n",
      "Epoch 64/100\n",
      "57/57 [==============================] - 0s 5ms/step - loss: 0.0014\n",
      "Epoch 65/100\n",
      "57/57 [==============================] - 0s 4ms/step - loss: 0.0017\n",
      "Epoch 66/100\n",
      "57/57 [==============================] - 0s 5ms/step - loss: 0.0014\n",
      "Epoch 67/100\n",
      "57/57 [==============================] - 0s 4ms/step - loss: 0.0014\n",
      "Epoch 68/100\n",
      "57/57 [==============================] - 0s 4ms/step - loss: 0.0016\n",
      "Epoch 69/100\n",
      "57/57 [==============================] - 0s 4ms/step - loss: 0.0014\n",
      "Epoch 70/100\n",
      "57/57 [==============================] - 0s 5ms/step - loss: 0.0015\n",
      "Epoch 71/100\n",
      "57/57 [==============================] - 0s 8ms/step - loss: 0.0015\n",
      "Epoch 72/100\n",
      "57/57 [==============================] - 0s 6ms/step - loss: 0.0013\n",
      "Epoch 73/100\n",
      "57/57 [==============================] - 0s 5ms/step - loss: 0.0013\n",
      "Epoch 74/100\n",
      "57/57 [==============================] - 0s 4ms/step - loss: 0.0015\n",
      "Epoch 75/100\n",
      "57/57 [==============================] - 0s 5ms/step - loss: 0.0014\n",
      "Epoch 76/100\n",
      "57/57 [==============================] - 0s 6ms/step - loss: 0.0014\n",
      "Epoch 77/100\n",
      "57/57 [==============================] - 0s 6ms/step - loss: 0.0014\n",
      "Epoch 78/100\n",
      "57/57 [==============================] - 0s 6ms/step - loss: 0.0014\n",
      "Epoch 79/100\n",
      "57/57 [==============================] - 0s 5ms/step - loss: 0.0016\n",
      "Epoch 80/100\n",
      "57/57 [==============================] - 0s 6ms/step - loss: 0.0013\n",
      "Epoch 81/100\n",
      "57/57 [==============================] - 0s 6ms/step - loss: 0.0015\n",
      "Epoch 82/100\n",
      "57/57 [==============================] - 0s 5ms/step - loss: 0.0015\n",
      "Epoch 83/100\n",
      "57/57 [==============================] - 0s 5ms/step - loss: 0.0015\n",
      "Epoch 84/100\n",
      "57/57 [==============================] - 0s 5ms/step - loss: 0.0014\n",
      "Epoch 85/100\n",
      "57/57 [==============================] - 0s 7ms/step - loss: 0.0015\n",
      "Epoch 86/100\n",
      "57/57 [==============================] - 0s 6ms/step - loss: 0.0015\n",
      "Epoch 87/100\n",
      "57/57 [==============================] - 0s 5ms/step - loss: 0.0015\n",
      "Epoch 88/100\n",
      "57/57 [==============================] - 0s 4ms/step - loss: 0.0015\n",
      "Epoch 89/100\n",
      "57/57 [==============================] - 0s 5ms/step - loss: 0.0013\n",
      "Epoch 90/100\n",
      "57/57 [==============================] - 0s 5ms/step - loss: 0.0014\n",
      "Epoch 91/100\n",
      "57/57 [==============================] - 0s 5ms/step - loss: 0.0015\n",
      "Epoch 92/100\n",
      "57/57 [==============================] - 0s 4ms/step - loss: 0.0013\n",
      "Epoch 93/100\n",
      "57/57 [==============================] - 0s 4ms/step - loss: 0.0014\n",
      "Epoch 94/100\n",
      "57/57 [==============================] - 0s 5ms/step - loss: 0.0015\n",
      "Epoch 95/100\n",
      "57/57 [==============================] - 0s 5ms/step - loss: 0.0014\n",
      "Epoch 96/100\n",
      "57/57 [==============================] - 0s 4ms/step - loss: 0.0015\n",
      "Epoch 97/100\n",
      "57/57 [==============================] - 0s 4ms/step - loss: 0.0015\n",
      "Epoch 98/100\n",
      "57/57 [==============================] - 0s 4ms/step - loss: 0.0013\n",
      "Epoch 99/100\n",
      "57/57 [==============================] - 0s 4ms/step - loss: 0.0014\n",
      "Epoch 100/100\n",
      "57/57 [==============================] - 0s 5ms/step - loss: 0.0014\n"
     ]
    },
    {
     "data": {
      "text/plain": [
       "<keras.callbacks.History at 0x11fcba50fa0>"
      ]
     },
     "execution_count": 178,
     "metadata": {},
     "output_type": "execute_result"
    }
   ],
   "source": [
    "model.fit(x_train, y_train, epochs=100, batch_size=32)\n"
   ]
  },
  {
   "cell_type": "code",
   "execution_count": 179,
   "metadata": {},
   "outputs": [],
   "source": [
    "predict_price = model.predict(x_test)\n",
    "predict_price = Ms.inverse_transform(predict_price)\n",
    "y_test = Ms.inverse_transform(y_test)"
   ]
  },
  {
   "cell_type": "code",
   "execution_count": 180,
   "metadata": {},
   "outputs": [
    {
     "data": {
      "image/png": "[encoded data removed]",
      "text/plain": [
       "<Figure size 800x480 with 1 Axes>"
      ]
     },
     "metadata": {
      "needs_background": "light"
     },
     "output_type": "display_data"
    }
   ],
   "source": [
    "import matplotlib.pyplot as plt\n",
    "\n",
    "plt.figure(figsize=(10,6),dpi=80)\n",
    "plt.plot(y_test, color = 'red', label = 'Actual BTC Price')\n",
    "plt.plot(predict_price, color = 'blue', label = 'Predicted BTC Price')\n",
    "plt.title('BTC Price Prediction')\n",
    "plt.xlabel('Time')\n",
    "plt.ylabel('BTC Price')\n",
    "plt.legend()\n",
    "plt.show()"
   ]
  },
  {
   "cell_type": "code",
   "execution_count": null,
   "metadata": {},
   "outputs": [],
   "source": []
  },
  {
   "cell_type": "code",
   "execution_count": null,
   "metadata": {},
   "outputs": [],
   "source": []
  }
 ],
 "metadata": {
  "kernelspec": {
   "display_name": "Python 3",
   "language": "python",
   "name": "python3"
  },
  "language_info": {
   "codemirror_mode": {
    "name": "ipython",
    "version": 3
   },
   "file_extension": ".py",
   "mimetype": "text/x-python",
   "name": "python",
   "nbconvert_exporter": "python",
   "pygments_lexer": "ipython3",
   "version": "3.8.10 (tags/v3.8.10:3d8993a, May  3 2021, 11:48:03) [MSC v.1928 64 bit (AMD64)]"
  },
  "orig_nbformat": 4,
  "vscode": {
   "interpreter": {
    "hash": "e8b7d8c8625b8142e1536fcb7c4f2c52780c0cee3b79e1c6432a8a514371aad4"
   }
  }
 },
 "nbformat": 4,
 "nbformat_minor": 2
}
